{
 "cells": [
  {
   "cell_type": "markdown",
   "metadata": {},
   "source": [
    "Reinforcement Learning Tictactoe:\n",
    "\n",
    "An attempt to build an agent which learns how to play the three by three tictactoe game, using reinforcement learning. In particular, this is my implementation of the most basic concepts discussed in the first chapter of Sutton and Barto's <i>Introduction to Reinforcement Learning</i>."
   ]
  },
  {
   "cell_type": "code",
   "execution_count": 1,
   "metadata": {},
   "outputs": [],
   "source": [
    "import numpy as np\n",
    "import pandas as pd"
   ]
  },
  {
   "cell_type": "markdown",
   "metadata": {},
   "source": [
    "The data consists of ten columns, the first nine corresponding to one position on the board and the last determining whether the game is a win or not for player 'x'."
   ]
  },
  {
   "cell_type": "code",
   "execution_count": 2,
   "metadata": {},
   "outputs": [
    {
     "name": "stdout",
     "output_type": "stream",
     "text": [
      "   0  1  2  3  4  5  6  7  8         9\n",
      "0  x  x  x  x  o  o  x  o  o  positive\n",
      "1  x  x  x  x  o  o  o  x  o  positive\n",
      "2  x  x  x  x  o  o  o  o  x  positive\n",
      "3  x  x  x  x  o  o  o  b  b  positive\n",
      "4  x  x  x  x  o  o  b  o  b  positive\n"
     ]
    }
   ],
   "source": [
    "data=pd.read_csv('endgame.csv',header=None)\n",
    "\n",
    "print(data.head())"
   ]
  },
  {
   "cell_type": "code",
   "execution_count": null,
   "metadata": {},
   "outputs": [],
   "source": []
  },
  {
   "cell_type": "code",
   "execution_count": 3,
   "metadata": {},
   "outputs": [
    {
     "data": {
      "text/plain": [
       "(958, 1)"
      ]
     },
     "execution_count": 3,
     "metadata": {},
     "output_type": "execute_result"
    }
   ],
   "source": [
    "A=1*(data[:][9].values=='positive')\n",
    "\n",
    "A=A.reshape((data.shape[0],1))\n",
    "np.shape(A)"
   ]
  },
  {
   "cell_type": "code",
   "execution_count": 13,
   "metadata": {},
   "outputs": [],
   "source": [
    "def checkwin(A,i,player):\n",
    "    f=0\n",
    "    if A[i][0]==A[i][1] and A[i][1]==A[i][2] and A[i][0]==player:     #0 1 2\n",
    "        f=1\n",
    "    elif (A[i][3]==A[i][4] and A[i][4]==A[i][5] and A[i][3]==player): #3 4 5\n",
    "        f=1\n",
    "    elif A[i][6]==A[i][7] and A[i][7]==A[i][8] and A[i][6]==player:   #6 7 8\n",
    "        f=1\n",
    "    elif A[i][0]==A[i][3] and A[i][3]==A[i][6] and A[i][0]==player:   #0 3 6\n",
    "        f=1\n",
    "    elif A[i][1]==A[i][4] and A[i][4]==A[i][7] and A[i][1]==player:   #1 4 7\n",
    "        f=1\n",
    "    elif A[i][2]==A[i][5] and A[i][5]==A[i][8] and A[i][2]==player:   #2 5 8\n",
    "        f=1\n",
    "    elif A[i][0]==A[i][4] and A[i][4]==A[i][8] and A[i][0]==player:   #0 4 8\n",
    "        f=1\n",
    "    elif A[i][2]==A[i][4] and A[i][4]==A[i][6] and A[i][2]==player:   #2 4 6\n",
    "        f=1\n",
    "    \n",
    "    return f"
   ]
  },
  {
   "cell_type": "code",
   "execution_count": 16,
   "metadata": {},
   "outputs": [
    {
     "name": "stdout",
     "output_type": "stream",
     "text": [
      "Games lost: 316\n",
      "Games drawed: 16\n"
     ]
    }
   ],
   "source": [
    "lose=0\n",
    "draw=0\n",
    "for i in range(A.shape[0]):\n",
    "    if A[i][0]!=1:\n",
    "        if checkwin(data.values,i,'o')==0:\n",
    "            A[i][0]=0.5\n",
    "            draw=draw+1\n",
    "        else:\n",
    "            A[i][0]=0\n",
    "            lose=lose+1\n",
    "            \n",
    "print(\"Games lost: {}\\nGames drawed: {}\".format(lose,draw))"
   ]
  },
  {
   "cell_type": "code",
   "execution_count": 28,
   "metadata": {},
   "outputs": [
    {
     "name": "stdout",
     "output_type": "stream",
     "text": [
      "0   0.7057416267942583\n",
      "1   0.5952380952380952\n",
      "2   0.7057416267942583\n",
      "3   0.5952380952380952\n",
      "4   0.7991266375545851\n",
      "5   0.5952380952380952\n",
      "6   0.7057416267942583\n",
      "7   0.5952380952380952\n",
      "8   0.7057416267942583\n"
     ]
    }
   ],
   "source": [
    "state_table=np.zeros(9)\n",
    "for i in range(9):\n",
    "    x=1*(data[:][i].values=='x')\n",
    "    x=x.reshape((data.shape[0],1))\n",
    "    state_table[i]=np.sum(x*A)/np.sum(x)\n",
    "    print(i,\" \",state_table[i])"
   ]
  }
 ],
 "metadata": {
  "kernelspec": {
   "display_name": "Python 3",
   "language": "python",
   "name": "python3"
  },
  "language_info": {
   "codemirror_mode": {
    "name": "ipython",
    "version": 3
   },
   "file_extension": ".py",
   "mimetype": "text/x-python",
   "name": "python",
   "nbconvert_exporter": "python",
   "pygments_lexer": "ipython3",
   "version": "3.7.1"
  }
 },
 "nbformat": 4,
 "nbformat_minor": 2
}
